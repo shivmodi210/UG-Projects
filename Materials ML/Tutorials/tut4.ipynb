{
 "cells": [
  {
   "cell_type": "markdown",
   "metadata": {},
   "source": [
    "# Mean, Variance and Covariance with numpy\n",
    "We will use numpy directly and will consolidate our fundamentals. Pay attendtion to theory and compare the inference of these numerical examples"
   ]
  },
  {
   "cell_type": "code",
   "execution_count": 1,
   "metadata": {},
   "outputs": [],
   "source": [
    "import numpy as np\n",
    "from numpy import array # note that this time we are exporting array and mean directly so we dont have to use np.array etc.\n",
    "from numpy import mean\n",
    "from numpy import var"
   ]
  },
  {
   "cell_type": "markdown",
   "metadata": {},
   "source": [
    "Calculating \"mean\" using mumpy"
   ]
  },
  {
   "cell_type": "code",
   "execution_count": 2,
   "metadata": {},
   "outputs": [
    {
     "name": "stdout",
     "output_type": "stream",
     "text": [
      "[1 2 3 4 5 6]\n",
      "3.5\n"
     ]
    }
   ],
   "source": [
    "v = array([1,2,3,4,5,6])\n",
    "print(v)\n",
    "result = mean(v)\n",
    "print(result)"
   ]
  },
  {
   "cell_type": "markdown",
   "metadata": {},
   "source": [
    "Calculating \"mean\" of each row or column using mumpy"
   ]
  },
  {
   "cell_type": "code",
   "execution_count": 3,
   "metadata": {},
   "outputs": [
    {
     "name": "stdout",
     "output_type": "stream",
     "text": [
      "[[1 2 3 4 5 6]\n",
      " [1 2 3 4 5 6]]\n",
      "[1. 2. 3. 4. 5. 6.]\n",
      "[3.5 3.5]\n"
     ]
    }
   ],
   "source": [
    "M = array([[1,2,3,4,5,6],[1,2,3,4,5,6]])\n",
    "print(M)\n",
    "col_mean = mean(M, axis=0)\n",
    "print(col_mean)\n",
    "row_mean = mean(M, axis=1)\n",
    "print(row_mean)"
   ]
  },
  {
   "cell_type": "markdown",
   "metadata": {},
   "source": [
    "Variance calculation using numpy"
   ]
  },
  {
   "cell_type": "code",
   "execution_count": 4,
   "metadata": {},
   "outputs": [
    {
     "name": "stdout",
     "output_type": "stream",
     "text": [
      "[1 2 3 4 5 6]\n",
      "3.5\n"
     ]
    }
   ],
   "source": [
    "v = array([1,2,3,4,5,6])\n",
    "print(v)\n",
    "result = var(v,ddof=1)\n",
    "print(result)"
   ]
  },
  {
   "cell_type": "code",
   "execution_count": 5,
   "metadata": {},
   "outputs": [
    {
     "name": "stdout",
     "output_type": "stream",
     "text": [
      "[ 1  2  3  4  5  6  7  8  9 10]\n",
      "Variance= 8.25\n",
      "SD= 2.8722813232690143\n"
     ]
    }
   ],
   "source": [
    "v = array([1,2,3,4,5,6,7,8,9,10]) # Variance = (1/N-ddof)XX^{T}\n",
    "print(v)\n",
    "print(\"Variance=\",var(v,ddof=0)) # Variance = (1/N-ddof)XX^{T}, if ddof is 0, we are dividing by N.\n",
    "print(\"SD=\",np.sqrt(var(v,ddof=0)))"
   ]
  },
  {
   "cell_type": "markdown",
   "metadata": {},
   "source": [
    "Variance calculation of rows and columns using numpy"
   ]
  },
  {
   "cell_type": "code",
   "execution_count": 6,
   "metadata": {},
   "outputs": [
    {
     "name": "stdout",
     "output_type": "stream",
     "text": [
      "[[1 2 3 4 5 6]\n",
      " [1 2 3 4 5 6]]\n",
      "[0. 0. 0. 0. 0. 0.]\n",
      "[3.5 3.5]\n"
     ]
    }
   ],
   "source": [
    "M = array([[1,2,3,4,5,6],[1,2,3,4,5,6]])\n",
    "print(M)\n",
    "col_variance = var(M, ddof=1, axis=0)\n",
    "print(col_variance)\n",
    "row_variance = var(M, ddof=1, axis=1)\n",
    "print(row_variance)"
   ]
  },
  {
   "cell_type": "markdown",
   "metadata": {},
   "source": [
    "Standard deviation from variance"
   ]
  },
  {
   "cell_type": "code",
   "execution_count": 7,
   "metadata": {
    "scrolled": true
   },
   "outputs": [
    {
     "name": "stdout",
     "output_type": "stream",
     "text": [
      "[1.87082869 1.87082869]\n"
     ]
    }
   ],
   "source": [
    "s = np.sqrt(row_variance)\n",
    "print(s)"
   ]
  },
  {
   "cell_type": "markdown",
   "metadata": {},
   "source": [
    "Standard deviation of rows and columns using numpy"
   ]
  },
  {
   "cell_type": "code",
   "execution_count": 8,
   "metadata": {},
   "outputs": [
    {
     "name": "stdout",
     "output_type": "stream",
     "text": [
      "[[1 2 3 4 5 6]\n",
      " [1 2 3 4 5 6]]\n",
      "[0. 0. 0. 0. 0. 0.]\n",
      "[1.87082869 1.87082869]\n"
     ]
    }
   ],
   "source": [
    "M = array([[1,2,3,4,5,6],[1,2,3,4,5,6]])\n",
    "print(M)\n",
    "col_std = np.std(M, ddof=1, axis=0)\n",
    "print(col_std)\n",
    "row_std = np.std(M, ddof=1, axis=1)\n",
    "print(row_std)"
   ]
  },
  {
   "cell_type": "markdown",
   "metadata": {},
   "source": [
    "Covariance between two arrays using numpy"
   ]
  },
  {
   "cell_type": "code",
   "execution_count": 9,
   "metadata": {},
   "outputs": [
    {
     "name": "stdout",
     "output_type": "stream",
     "text": [
      "[1 2 3 4 5 6 7 8 9]\n",
      "[9 8 7 6 5 4 3 2 1]\n",
      "6.666666666666667\n",
      "6.666666666666667\n",
      "-7.5\n"
     ]
    }
   ],
   "source": [
    "x = array([1,2,3,4,5,6,7,8,9])\n",
    "print(x)\n",
    "y = array([9,8,7,6,5,4,3,2,1])\n",
    "print(y)\n",
    "x_var = np.var(x)\n",
    "print(x_var)\n",
    "y_var = np.var(y)\n",
    "print(y_var)\n",
    "covariance = np.cov(x,y)[0,1]\n",
    "print(covariance)"
   ]
  },
  {
   "cell_type": "markdown",
   "metadata": {},
   "source": [
    "Probability Distribution, Expected Value and Variance\n",
    "In the tutorial we will use probability distribution from the data of three tosses of coins as described in the class. The data will be used to determine the expected values and variance using many methods."
   ]
  },
  {
   "cell_type": "markdown",
   "metadata": {},
   "source": [
    "Px is the probability distribution for flip of a coin for three tosses. This distribution shows the probability of getting 0 Head, 1 Head, 2 Head and 3 Head during total three tosses. Refer to lecture slides."
   ]
  },
  {
   "cell_type": "code",
   "execution_count": 1,
   "metadata": {},
   "outputs": [],
   "source": [
    "Px = [1/8,3/8,3/8,1/8]\n",
    "X=[0,1,2,3]"
   ]
  },
  {
   "cell_type": "code",
   "execution_count": 2,
   "metadata": {},
   "outputs": [
    {
     "name": "stdout",
     "output_type": "stream",
     "text": [
      "[0.125, 0.375, 0.375, 0.125]\n",
      "[0, 1, 2, 3]\n"
     ]
    }
   ],
   "source": [
    "print(Px)\n",
    "print(X)"
   ]
  },
  {
   "cell_type": "markdown",
   "metadata": {},
   "source": []
  },
  {
   "cell_type": "code",
   "execution_count": 3,
   "metadata": {},
   "outputs": [
    {
     "data": {
      "text/plain": [
       "1.0"
      ]
     },
     "execution_count": 3,
     "metadata": {},
     "output_type": "execute_result"
    }
   ],
   "source": [
    "sum(Px)"
   ]
  },
  {
   "cell_type": "markdown",
   "metadata": {},
   "source": [
    "What is expectation for event X or the mean value for X i.e. for flipping a coin and getting head during three tosses. Here X is the event or Random variable. X has 4 values. X = 0 head, X = 1 head, X = 2 head, X = 3 head.\n",
    "$ \\mathbb{E}_{x \\sim P}[ X ] = \\sum_x {P(x)x}  = \\mu $.\n",
    "$\\mu$ is the mean of the values of X. Note that we essentially determining a weighted average of X. This is weighted by the probability values at various values of X as per the probability distribution function."
   ]
  },
  {
   "cell_type": "code",
   "execution_count": 5,
   "metadata": {},
   "outputs": [
    {
     "data": {
      "text/plain": [
       "1.5"
      ]
     },
     "execution_count": 5,
     "metadata": {},
     "output_type": "execute_result"
    }
   ],
   "source": [
    "E = Px[0]*X[0]+Px[1]*X[1]+Px[2]*X[2]+Px[3]*X[3]\n",
    "E"
   ]
  },
  {
   "cell_type": "markdown",
   "metadata": {},
   "source": [
    "Note that the expected value of the expectation is not a value that can be found in the original Px data for any value of X."
   ]
  },
  {
   "cell_type": "code",
   "execution_count": 6,
   "metadata": {},
   "outputs": [
    {
     "data": {
      "text/plain": [
       "1.5"
      ]
     },
     "execution_count": 6,
     "metadata": {},
     "output_type": "execute_result"
    }
   ],
   "source": [
    "E=0\n",
    "for i in X:\n",
    "    E = E + X[i]*Px[i]\n",
    "E\n",
    "mu = E # mu is mean of X\n",
    "mu"
   ]
  },
  {
   "cell_type": "markdown",
   "metadata": {},
   "source": [
    "Variance is given by:\n",
    "$$Var (x) = \\mathbb{E} \\left[ (X - \\mu )^2 \\right]  = \\sum_x (x - \\mu )^2 P(x)$$"
   ]
  },
  {
   "cell_type": "markdown",
   "metadata": {},
   "source": []
  },
  {
   "cell_type": "code",
   "execution_count": 7,
   "metadata": {},
   "outputs": [
    {
     "data": {
      "text/plain": [
       "0.75"
      ]
     },
     "execution_count": 7,
     "metadata": {},
     "output_type": "execute_result"
    }
   ],
   "source": [
    "VarX = 0\n",
    "for i in X:\n",
    "    VarX = VarX + ((X[i]-mu)**2)*Px[i]\n",
    "VarX"
   ]
  },
  {
   "cell_type": "markdown",
   "metadata": {},
   "source": [
    "Another form of variance is given by:\n",
    "$$ E(X^2) - [E(X)]^2 = E(X^2) - \\mu^2 $$\n",
    "Let us try this: $E(X^2) - \\mu^2$"
   ]
  },
  {
   "cell_type": "code",
   "execution_count": 8,
   "metadata": {},
   "outputs": [
    {
     "name": "stdout",
     "output_type": "stream",
     "text": [
      "0.75\n"
     ]
    }
   ],
   "source": [
    "EX2 = 0\n",
    "EX2=0\n",
    "for i in X:\n",
    "    EX2 = EX2 + (X[i]**2)*Px[i]\n",
    "VarX = EX2 - mu**2\n",
    "print(VarX)"
   ]
  },
  {
   "cell_type": "markdown",
   "metadata": {},
   "source": [
    "$$\\sigma = \\sqrt{Var(X)}$$"
   ]
  },
  {
   "cell_type": "code",
   "execution_count": 9,
   "metadata": {},
   "outputs": [
    {
     "data": {
      "text/plain": [
       "0.8660254037844386"
      ]
     },
     "execution_count": 9,
     "metadata": {},
     "output_type": "execute_result"
    }
   ],
   "source": [
    "import numpy as np\n",
    "SD = np.sqrt(VarX)\n",
    "SD"
   ]
  },
  {
   "cell_type": "code",
   "execution_count": null,
   "metadata": {},
   "outputs": [],
   "source": []
  }
 ],
 "metadata": {
  "kernelspec": {
   "display_name": "Python 3 (ipykernel)",
   "language": "python",
   "name": "python3"
  },
  "language_info": {
   "codemirror_mode": {
    "name": "ipython",
    "version": 3
   },
   "file_extension": ".py",
   "mimetype": "text/x-python",
   "name": "python",
   "nbconvert_exporter": "python",
   "pygments_lexer": "ipython3",
   "version": "3.9.7"
  }
 },
 "nbformat": 4,
 "nbformat_minor": 2
}