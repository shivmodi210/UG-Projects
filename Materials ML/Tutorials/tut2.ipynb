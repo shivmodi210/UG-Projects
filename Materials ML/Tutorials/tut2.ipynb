{
 "cells": [
  {
   "cell_type": "markdown",
   "id": "7f3f4901",
   "metadata": {},
   "source": [
    "# Tutorial 2 - Principal Component Analysis"
   ]
  },
  {
   "cell_type": "markdown",
   "id": "ae93fd4f",
   "metadata": {},
   "source": [
    "### Exercise 1: Create your own function for PCA.\n",
    "#### The input data is represented by $X$. This function is raw and does not itself normalize the data. This function determines eigenvalues and eigenvectors of the covariance matrix of $X$.\n",
    "#### Before sending $X$ to this function, do the following:\n",
    "1. Subtract from mean $\\boldsymbol \\mu$ of each column from the column.\n",
    "2. Scale each dimension of each column by $\\frac{1}{\\sigma}$ where $\\sigma$ is the stardard deviation."
   ]
  },
  {
   "cell_type": "code",
   "execution_count": 31,
   "id": "24320a4b",
   "metadata": {},
   "outputs": [],
   "source": [
    "# This function does not normalize X.\n",
    "def pca(X):\n",
    "  n, m = X.shape\n",
    "  # Compute covariance matrix\n",
    "  C = np.dot(X.T, X) / (n-1) # when data is small, co-variance matrix is normalized by dividing by n-1.\n",
    "  # Eigen decomposition\n",
    "  eigen_vals, eigen_vecs = np.linalg.eig(C)\n",
    "  # Project X onto PC space\n",
    "  X_pca = np.dot(X, eigen_vecs)\n",
    "  return eigen_vecs,eigen_vals,X_pca"
   ]
  },
  {
   "cell_type": "code",
   "execution_count": 2,
   "id": "68651c50",
   "metadata": {},
   "outputs": [],
   "source": [
    "import numpy as np"
   ]
  },
  {
   "cell_type": "code",
   "execution_count": 3,
   "id": "0779061b",
   "metadata": {},
   "outputs": [],
   "source": [
    "A=np.array([[1,2,3],\n",
    "   [4,3,7],\n",
    "   [7,6,6]])"
   ]
  },
  {
   "cell_type": "code",
   "execution_count": 4,
   "id": "b648626a",
   "metadata": {
    "scrolled": true
   },
   "outputs": [
    {
     "data": {
      "text/plain": [
       "(3, 3)"
      ]
     },
     "execution_count": 4,
     "metadata": {},
     "output_type": "execute_result"
    }
   ],
   "source": [
    "A.shape"
   ]
  },
  {
   "cell_type": "code",
   "execution_count": 5,
   "id": "1d9b1e7d",
   "metadata": {},
   "outputs": [
    {
     "name": "stdout",
     "output_type": "stream",
     "text": [
      "mean for column 1: 4.0\n",
      "mean for column 2: 3.6666666666666665\n",
      "mean for column 3: 5.333333333333333\n"
     ]
    }
   ],
   "source": [
    "w1=A[:,0] # w1 is the first column of A\n",
    "m1=np.mean(w1)\n",
    "w2=A[:,1] # w2 is the second column of A\n",
    "m2=np.mean(w2)\n",
    "w3=A[:,2] # w3 is the third column of A\n",
    "m3=np.mean(w3)\n",
    "print(\"mean for column 1:\",m1) # check what is stored in the columns\n",
    "print(\"mean for column 2:\",m2)\n",
    "print(\"mean for column 3:\",m3)"
   ]
  },
  {
   "cell_type": "markdown",
   "id": "b9289d8c",
   "metadata": {},
   "source": [
    "### Adjust for mean and recreate A"
   ]
  },
  {
   "cell_type": "code",
   "execution_count": 6,
   "id": "c76b0506",
   "metadata": {},
   "outputs": [
    {
     "name": "stdout",
     "output_type": "stream",
     "text": [
      "[-3.  0.  3.]\n",
      "[-1.66666667 -0.66666667  2.33333333]\n",
      "[-2.33333333  1.66666667  0.66666667]\n"
     ]
    }
   ],
   "source": [
    "w1=w1-m1 # Subtract mean of each column respectively.\n",
    "w2=w2-m2\n",
    "w3=w3-m3\n",
    "print(w1) # Print individual columns\n",
    "print(w2)\n",
    "print(w3)"
   ]
  },
  {
   "cell_type": "code",
   "execution_count": 7,
   "id": "5687ebbf",
   "metadata": {},
   "outputs": [
    {
     "name": "stdout",
     "output_type": "stream",
     "text": [
      "[[-3.          0.          3.        ]\n",
      " [-1.66666667 -0.66666667  2.33333333]\n",
      " [-2.33333333  1.66666667  0.66666667]]\n"
     ]
    }
   ],
   "source": [
    "A=np.array([w1, w2, w3]) # Recreate A matrix. Note that this is still not normalized. It is only zero mean data.\n",
    "print(A)"
   ]
  },
  {
   "cell_type": "code",
   "execution_count": 8,
   "id": "5c27292a",
   "metadata": {},
   "outputs": [
    {
     "data": {
      "text/plain": [
       "(array([[-0.73679906,  0.57735027,  0.35184345],\n",
       "        [ 0.06369416,  0.57735027, -0.81400843],\n",
       "        [ 0.6731049 ,  0.57735027,  0.46216498]]),\n",
       " array([ 1.53290584e+01, -4.32561421e-16,  2.33760824e+00]),\n",
       " array([[ 4.22971186e+00,  0.00000000e+00,  3.30964575e-01],\n",
       "        [ 2.75611375e+00,  1.14501400e-17,  1.03465148e+00],\n",
       "        [ 2.27409134e+00,  8.55567548e-16, -1.86953878e+00]]))"
      ]
     },
     "execution_count": 8,
     "metadata": {},
     "output_type": "execute_result"
    }
   ],
   "source": [
    "pca(A)"
   ]
  },
  {
   "cell_type": "markdown",
   "id": "b9923594",
   "metadata": {},
   "source": [
    "### Exercise 2: Now let us use sklearn libeary PCA function for PCA"
   ]
  },
  {
   "cell_type": "code",
   "execution_count": 33,
   "id": "9169a0bc",
   "metadata": {},
   "outputs": [],
   "source": [
    "from sklearn.decomposition import PCA"
   ]
  },
  {
   "cell_type": "code",
   "execution_count": 34,
   "id": "b33f0e92",
   "metadata": {},
   "outputs": [],
   "source": [
    "pca = PCA(n_components=3)"
   ]
  },
  {
   "cell_type": "code",
   "execution_count": 35,
   "id": "b09e41bc",
   "metadata": {},
   "outputs": [],
   "source": [
    "A=np.array([[1,2,3],\n",
    "   [4,3,7],\n",
    "   [7,6,6]])"
   ]
  },
  {
   "cell_type": "code",
   "execution_count": 50,
   "id": "64489741",
   "metadata": {},
   "outputs": [
    {
     "name": "stdout",
     "output_type": "stream",
     "text": [
      "[[-0.63151812 -0.58539549 -0.50842599]\n",
      " [-0.16629928 -0.53820541  0.82624421]\n",
      " [-0.75731725  0.60633906  0.24253563]]\n"
     ]
    }
   ],
   "source": [
    "pca.fit(A)\n",
    "print(pca.components_) # this represents the transformed data i.e. principal components of the data\n",
    "Pa=pca.components_ # Save this eigenvector matrix as Pa. We will use it later to see how it is transforming the data."
   ]
  },
  {
   "cell_type": "markdown",
   "id": "464784ba",
   "metadata": {},
   "source": [
    "#### Let us determine the 'importance' of each PCA component i.e. $\\lambda_1 / (\\lambda_1 + \\lambda_2 + \\lambda_3)$. This represents the amount of information can be represented by each PCA or the 'weight' of a PCA."
   ]
  },
  {
   "cell_type": "code",
   "execution_count": 43,
   "id": "cb3b64b0",
   "metadata": {},
   "outputs": [
    {
     "name": "stdout",
     "output_type": "stream",
     "text": [
      "[8.67682552e-01 1.32317448e-01 3.66358219e-33]\n"
     ]
    }
   ],
   "source": [
    "print(pca.explained_variance_ratio_) # Explained variance ratio shows the weighted eigenvalues.\n",
    "# The sum of explained variance ratio is 1.\n",
    "# In the following, the first number is the importance or weight of the first principal component."
   ]
  },
  {
   "cell_type": "code",
   "execution_count": 44,
   "id": "e1e1b755",
   "metadata": {
    "scrolled": false
   },
   "outputs": [
    {
     "name": "stdout",
     "output_type": "stream",
     "text": [
      "[5.53697723e+00 2.16222489e+00 3.59786841e-16]\n"
     ]
    }
   ],
   "source": [
    "print(pca.singular_values_) # this represents the singular values sigmas."
   ]
  },
  {
   "cell_type": "markdown",
   "id": "a9375801",
   "metadata": {},
   "source": [
    "#### For more information on various options available with sklearn, one can take a look at : https://scikit-learn.org/stable/modules/generated/sklearn.decomposition.PCA.html"
   ]
  },
  {
   "cell_type": "markdown",
   "id": "789b74b5",
   "metadata": {},
   "source": [
    "### Exercise 3: Let us recalculate PCA using our own function + using normalization by standard deviation\n",
    "$$ \\mu = \\frac{\\Sigma X}{N} $$\n",
    "$$ Var = {\\sigma}^2 = \\frac{\\Sigma (X - \\mu)^2}{N} $$\n",
    "$$ \\text{Standardized } A = \\frac{X - \\mu}{\\sigma}$$"
   ]
  },
  {
   "cell_type": "code",
   "execution_count": 46,
   "id": "4776aa96",
   "metadata": {},
   "outputs": [],
   "source": [
    "def standardize(X): # X is the input data\n",
    "    mu=sum(X)/len(X)\n",
    "    var=sum((X-mu)**2)/len(X)\n",
    "    z=(X-mu)/(var**0.5)\n",
    "    return z"
   ]
  },
  {
   "cell_type": "code",
   "execution_count": 47,
   "id": "bb1d5f64",
   "metadata": {},
   "outputs": [],
   "source": [
    "A=np.array([[1,2,3],\n",
    "   [4,3,7],\n",
    "   [7,6,6]])"
   ]
  },
  {
   "cell_type": "code",
   "execution_count": 48,
   "id": "edb2aaf6",
   "metadata": {},
   "outputs": [
    {
     "data": {
      "text/plain": [
       "array([[-1.22474487, -0.98058068, -1.37281295],\n",
       "       [ 0.        , -0.39223227,  0.98058068],\n",
       "       [ 1.22474487,  1.37281295,  0.39223227]])"
      ]
     },
     "execution_count": 48,
     "metadata": {},
     "output_type": "execute_result"
    }
   ],
   "source": [
    "A = standardize(A)\n",
    "A"
   ]
  },
  {
   "cell_type": "code",
   "execution_count": 19,
   "id": "2638be98",
   "metadata": {},
   "outputs": [],
   "source": [
    "# This function determines eigenvalues and eigenvectors of the covariance matrix of X.\n",
    "def pca(X):\n",
    "  # Add functionality of adjusting X for zero mean for each column and normalize each column using variance.\n",
    "  n, m = X.shape\n",
    "  # Compute covariance matrix\n",
    "  C = np.dot(X.T, X) / (n-1)\n",
    "  # Eigen decomposition\n",
    "  eigen_vals, eigen_vecs = np.linalg.eig(C)\n",
    "  # Project X onto PC space\n",
    "  X_pca = np.dot(X, eigen_vecs)\n",
    "  return eigen_vecs,eigen_vals,X_pca"
   ]
  },
  {
   "cell_type": "code",
   "execution_count": 20,
   "id": "fea21883",
   "metadata": {},
   "outputs": [
    {
     "name": "stdout",
     "output_type": "stream",
     "text": [
      "[[-1.22474487  0.          1.22474487]\n",
      " [-0.98058068 -0.39223227  1.37281295]\n",
      " [-1.37281295  0.98058068  0.39223227]]\n"
     ]
    },
    {
     "data": {
      "text/plain": [
       "(array([[-0.75130448,  0.57735027,  0.31970025],\n",
       "        [ 0.0987837 ,  0.57735027, -0.81049889],\n",
       "        [ 0.65252078,  0.57735027,  0.49079864]]),\n",
       " array([3.70608802e+00, 5.59479688e-17, 7.93911985e-01]),\n",
       " array([[ 1.71932778e+00,  3.84212406e-16,  2.09551867e-01],\n",
       "        [ 1.59375747e+00,  5.66688506e-16,  6.78186650e-01],\n",
       "        [ 1.38420560e+00, -1.43928176e-17, -1.04114113e+00]]))"
      ]
     },
     "execution_count": 20,
     "metadata": {},
     "output_type": "execute_result"
    }
   ],
   "source": [
    "w1=A[:,0] # w1 is the first column of A\n",
    "m1=np.mean(w1)\n",
    "w2=A[:,1] # w2 is the second column of A\n",
    "m2=np.mean(w2)\n",
    "w3=A[:,2] # w3 is the third column of A\n",
    "m3=np.mean(w3)\n",
    "w1=w1-m1 # Subtract mean of each column respectively.\n",
    "w2=w2-m2\n",
    "w3=w3-m3\n",
    "A=np.array([w1, w2, w3]) # Recreate A matrix. Note that this is still not normalized. It is only mean difference.\n",
    "print(A)\n",
    "pca(A)"
   ]
  },
  {
   "cell_type": "markdown",
   "id": "348365aa",
   "metadata": {},
   "source": [
    "### Exercise 4: Graphical visualization of the effect of principal component"
   ]
  },
  {
   "cell_type": "code",
   "execution_count": 21,
   "id": "b3848179",
   "metadata": {},
   "outputs": [],
   "source": [
    "X1 = np.array([-0.5,-0.5,0])\n",
    "X12 = np.array([0,-0.5,0])\n",
    "X2 = np.array([0.5,-0.5,0])\n",
    "X23= np.array([0.5,0.0,0])\n",
    "X3 = np.array([0.5,0.5,0])\n",
    "X13 = np.array([0.0,0.0,0])\n",
    "X34 = np.array([0,0.5,0])\n",
    "X4 = np.array([-0.5,0.5,0])\n",
    "X14 = np.array([-0.5,0,0])"
   ]
  },
  {
   "cell_type": "code",
   "execution_count": 22,
   "id": "a6369a21",
   "metadata": {},
   "outputs": [],
   "source": [
    "from matplotlib import pyplot as plt"
   ]
  },
  {
   "cell_type": "code",
   "execution_count": 37,
   "id": "0f610494",
   "metadata": {},
   "outputs": [],
   "source": [
    "P = np.array([[np.cos(np.pi/4),-np.sin(np.pi/4),0],[np.sin(np.pi/4),np.cos(np.pi/4),0],[0,0,1]])\n",
    "#P = np.array([[1,-1,0],[-1,1,0],[0,0,1]])\n",
    "#P_1 = np.array([[1,0,0],[0,1,0],[0,0,1]])\n",
    "#P_2 = np.array([[0,-1,0],[0,0,0],[0,0,1]])\n",
    "#P_3 = np.array([[0,0,0],[-1,0,0],[0,0,1]])\n",
    "#P=np.matmul(P_2,P_3)\n",
    "#P=P_1#+P_2+P_3\n",
    "#P = np.array([[1,1.5],[0,1.0]])\n",
    "#print(P)\n",
    "#P=Pa"
   ]
  },
  {
   "cell_type": "code",
   "execution_count": 38,
   "id": "1bcf4515",
   "metadata": {},
   "outputs": [],
   "source": [
    "X1_new = np.matmul(P,X1)\n",
    "X2_new = np.matmul(P,X2)\n",
    "X3_new = np.matmul(P,X3)\n",
    "X4_new = np.matmul(P,X4)\n",
    "X12_new = np.matmul(P,X12)\n",
    "X13_new = np.matmul(P,X13)\n",
    "X14_new = np.matmul(P,X14)\n",
    "X23_new = np.matmul(P,X23)\n",
    "X34_new = np.matmul(P,X34)"
   ]
  },
  {
   "cell_type": "code",
   "execution_count": 39,
   "id": "37203233",
   "metadata": {},
   "outputs": [],
   "source": [
    "#print(X3_new)\n",
    "#print(Y3_new)"
   ]
  },
  {
   "cell_type": "code",
   "execution_count": 40,
   "id": "d589e51d",
   "metadata": {},
   "outputs": [
    {
     "data": {
      "image/png": "[encoded data removed]",
      "text/plain": [
       "<Figure size 432x288 with 2 Axes>"
      ]
     },
     "metadata": {
      "needs_background": "light"
     },
     "output_type": "display_data"
    }
   ],
   "source": [
    "fig2, (ax, ax2) = plt.subplots(ncols=2, sharey=True)\n",
    "ax.plot(X1[0],X1[1],'o')\n",
    "ax.plot(X2[0],X2[1],'o')\n",
    "ax.plot(X3[0],X3[1],'o')\n",
    "ax.plot(X4[0],X4[1],'o')\n",
    "ax.plot(X12[0],X12[1],'o')\n",
    "ax.plot(X13[0],X13[1],'o')\n",
    "ax.plot(X23[0],X23[1],'o')\n",
    "ax.plot(X14[0],X14[1],'o')\n",
    "ax.plot(X34[0],X34[1],'o')\n",
    "\n",
    "ax2.plot(X1_new[0],X1_new[1],'o')\n",
    "ax2.plot(X2_new[0],X2_new[1],'o')\n",
    "ax2.plot(X3_new[0],X3_new[1],'o')\n",
    "ax2.plot(X4_new[0],X4_new[1],'o')\n",
    "ax2.plot(X12_new[0],X12_new[1],'o')\n",
    "ax2.plot(X13_new[0],X13_new[1],'o')\n",
    "ax2.plot(X14_new[0],X14_new[1],'o')\n",
    "ax2.plot(X23_new[0],X23_new[1],'o')\n",
    "ax2.plot(X34_new[0],X34_new[1],'o')\n",
    "\n",
    "ax.set_title(\"Original Data\")\n",
    "ax.set_xlim(-2, 2)\n",
    "ax.set_ylim(-2, 2)\n",
    "ax2.set_title(\"Transformed Data due to PCs\")\n",
    "ax2.set_xlim(-2, 2)\n",
    "ax2.set_ylim(-2, 2)\n",
    "ax.set_box_aspect(1)\n",
    "ax2.set_box_aspect(1)\n",
    "plt.show()\n"
   ]
  },
  {
   "cell_type": "markdown",
   "id": "f5a6a1c3",
   "metadata": {},
   "source": [
    "# Outer product in numpy"
   ]
  },
  {
   "cell_type": "code",
   "execution_count": 41,
   "id": "5e0a1d76",
   "metadata": {},
   "outputs": [
    {
     "name": "stdout",
     "output_type": "stream",
     "text": [
      "4\n"
     ]
    }
   ],
   "source": [
    "import numpy as np\n",
    "U = np.array([1,1,1,1])\n",
    "V = np.array([1,1,1,1])\n",
    "UT = np.transpose(U)\n",
    "VT = np.transpose(V)\n",
    "#UV = np.outer(U,V)\n",
    "UV = np.matmul(UT,V)\n",
    "#print(U)\n",
    "#print(V)\n",
    "print(UV)"
   ]
  },
  {
   "cell_type": "code",
   "execution_count": 42,
   "id": "ea82bf36",
   "metadata": {},
   "outputs": [
    {
     "name": "stdout",
     "output_type": "stream",
     "text": [
      "1\n",
      "1\n"
     ]
    }
   ],
   "source": [
    "rankUV = np.linalg.matrix_rank(UV)\n",
    "print(rankUV)\n",
    "rankUV = np.linalg.matrix_rank(U)\n",
    "print(rankUV)"
   ]
  },
  {
   "cell_type": "code",
   "execution_count": null,
   "id": "75fe8bcd",
   "metadata": {},
   "outputs": [],
   "source": []
  }
 ],
 "metadata": {
  "kernelspec": {
   "display_name": "Python 3 (ipykernel)",
   "language": "python",
   "name": "python3"
  },
  "language_info": {
   "codemirror_mode": {
    "name": "ipython",
    "version": 3
   },
   "file_extension": ".py",
   "mimetype": "text/x-python",
   "name": "python",
   "nbconvert_exporter": "python",
   "pygments_lexer": "ipython3",
   "version": "3.10.1"
  }
 },
 "nbformat": 4,
 "nbformat_minor": 5
}