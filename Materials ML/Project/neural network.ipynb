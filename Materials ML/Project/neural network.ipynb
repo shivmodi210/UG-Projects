{
 "cells": [
  {
   "cell_type": "code",
   "execution_count": 25,
   "metadata": {},
   "outputs": [],
   "source": [
    "import pandas as pd\n",
    "import numpy as np\n",
    "import matplotlib.pyplot as plt \n",
    "from sklearn.preprocessing import StandardScaler\n",
    "from sklearn.ensemble import ExtraTreesRegressor, RandomForestRegressor\n",
    "from sklearn.pipeline import make_pipeline, make_union\n",
    "from sklearn.tree import DecisionTreeRegressor\n",
    "from sklearn.linear_model import LinearRegression\n",
    "from sklearn.neighbors import KNeighborsRegressor\n",
    "from sklearn.neural_network import MLPRegressor\n",
    "from sklearn.model_selection import train_test_split, GridSearchCV\n",
    "from sklearn.metrics import mean_squared_error, mean_absolute_error"
   ]
  },
  {
   "cell_type": "code",
   "execution_count": 26,
   "metadata": {},
   "outputs": [
    {
     "data": {
      "text/html": [
       "<div>\n",
       "<style scoped>\n",
       "    .dataframe tbody tr th:only-of-type {\n",
       "        vertical-align: middle;\n",
       "    }\n",
       "\n",
       "    .dataframe tbody tr th {\n",
       "        vertical-align: top;\n",
       "    }\n",
       "\n",
       "    .dataframe thead th {\n",
       "        text-align: right;\n",
       "    }\n",
       "</style>\n",
       "<table border=\"1\" class=\"dataframe\">\n",
       "  <thead>\n",
       "    <tr style=\"text-align: right;\">\n",
       "      <th></th>\n",
       "      <th>No</th>\n",
       "      <th>a (Å)</th>\n",
       "      <th>delta</th>\n",
       "      <th>Tm (K)</th>\n",
       "      <th>D_Tm (K)</th>\n",
       "      <th>Hmix (kJ/mol)</th>\n",
       "      <th>σHmix (kJ/mol)</th>\n",
       "      <th>Sid (kJ/mol)</th>\n",
       "      <th>Elec_nega</th>\n",
       "      <th>D_elec_nega</th>\n",
       "      <th>...</th>\n",
       "      <th>AMp</th>\n",
       "      <th>SSsp</th>\n",
       "      <th>FCCp</th>\n",
       "      <th>B2p</th>\n",
       "      <th>BCCp</th>\n",
       "      <th>HCPp</th>\n",
       "      <th>2BCCp</th>\n",
       "      <th>SSp</th>\n",
       "      <th>L12p</th>\n",
       "      <th>2FCCp</th>\n",
       "    </tr>\n",
       "  </thead>\n",
       "  <tbody>\n",
       "    <tr>\n",
       "      <th>0</th>\n",
       "      <td>2</td>\n",
       "      <td>1.544000</td>\n",
       "      <td>0.051293</td>\n",
       "      <td>1134.443333</td>\n",
       "      <td>142.109607</td>\n",
       "      <td>-3.555556</td>\n",
       "      <td>0.209513</td>\n",
       "      <td>0.636514</td>\n",
       "      <td>1.823333</td>\n",
       "      <td>0.150849</td>\n",
       "      <td>...</td>\n",
       "      <td>0.0</td>\n",
       "      <td>0.0</td>\n",
       "      <td>0.0</td>\n",
       "      <td>0.0</td>\n",
       "      <td>0.0</td>\n",
       "      <td>0.0</td>\n",
       "      <td>0.0</td>\n",
       "      <td>0.0</td>\n",
       "      <td>0.0</td>\n",
       "      <td>0.0</td>\n",
       "    </tr>\n",
       "    <tr>\n",
       "      <th>1</th>\n",
       "      <td>2</td>\n",
       "      <td>1.580308</td>\n",
       "      <td>0.009851</td>\n",
       "      <td>840.646923</td>\n",
       "      <td>311.708141</td>\n",
       "      <td>-1.893491</td>\n",
       "      <td>0.051817</td>\n",
       "      <td>0.666278</td>\n",
       "      <td>1.782308</td>\n",
       "      <td>0.116761</td>\n",
       "      <td>...</td>\n",
       "      <td>0.0</td>\n",
       "      <td>0.0</td>\n",
       "      <td>0.0</td>\n",
       "      <td>0.0</td>\n",
       "      <td>0.0</td>\n",
       "      <td>0.0</td>\n",
       "      <td>0.0</td>\n",
       "      <td>0.0</td>\n",
       "      <td>0.0</td>\n",
       "      <td>0.0</td>\n",
       "    </tr>\n",
       "    <tr>\n",
       "      <th>2</th>\n",
       "      <td>2</td>\n",
       "      <td>1.475200</td>\n",
       "      <td>0.069075</td>\n",
       "      <td>675.718000</td>\n",
       "      <td>456.594686</td>\n",
       "      <td>-4.800000</td>\n",
       "      <td>0.097980</td>\n",
       "      <td>0.673012</td>\n",
       "      <td>1.858000</td>\n",
       "      <td>0.058788</td>\n",
       "      <td>...</td>\n",
       "      <td>0.0</td>\n",
       "      <td>0.0</td>\n",
       "      <td>0.0</td>\n",
       "      <td>0.0</td>\n",
       "      <td>0.0</td>\n",
       "      <td>0.0</td>\n",
       "      <td>0.0</td>\n",
       "      <td>0.0</td>\n",
       "      <td>0.0</td>\n",
       "      <td>0.0</td>\n",
       "    </tr>\n",
       "    <tr>\n",
       "      <th>3</th>\n",
       "      <td>2</td>\n",
       "      <td>1.548000</td>\n",
       "      <td>0.058183</td>\n",
       "      <td>1001.925000</td>\n",
       "      <td>403.576498</td>\n",
       "      <td>-3.750000</td>\n",
       "      <td>0.541266</td>\n",
       "      <td>0.562335</td>\n",
       "      <td>1.900000</td>\n",
       "      <td>0.051962</td>\n",
       "      <td>...</td>\n",
       "      <td>0.0</td>\n",
       "      <td>0.0</td>\n",
       "      <td>0.0</td>\n",
       "      <td>0.0</td>\n",
       "      <td>0.0</td>\n",
       "      <td>0.0</td>\n",
       "      <td>0.0</td>\n",
       "      <td>0.0</td>\n",
       "      <td>0.0</td>\n",
       "      <td>0.0</td>\n",
       "    </tr>\n",
       "    <tr>\n",
       "      <th>4</th>\n",
       "      <td>2</td>\n",
       "      <td>1.600750</td>\n",
       "      <td>0.000271</td>\n",
       "      <td>1000.982500</td>\n",
       "      <td>135.069652</td>\n",
       "      <td>-7.500000</td>\n",
       "      <td>1.082532</td>\n",
       "      <td>0.562335</td>\n",
       "      <td>1.465000</td>\n",
       "      <td>0.268468</td>\n",
       "      <td>...</td>\n",
       "      <td>0.0</td>\n",
       "      <td>0.0</td>\n",
       "      <td>0.0</td>\n",
       "      <td>0.0</td>\n",
       "      <td>0.0</td>\n",
       "      <td>0.0</td>\n",
       "      <td>0.0</td>\n",
       "      <td>0.0</td>\n",
       "      <td>0.0</td>\n",
       "      <td>0.0</td>\n",
       "    </tr>\n",
       "  </tbody>\n",
       "</table>\n",
       "<p>5 rows × 105 columns</p>\n",
       "</div>"
      ],
      "text/plain": [
       "   No     a (Å)     delta       Tm (K)    D_Tm (K)  Hmix (kJ/mol)  \\\n",
       "0   2  1.544000  0.051293  1134.443333  142.109607      -3.555556   \n",
       "1   2  1.580308  0.009851   840.646923  311.708141      -1.893491   \n",
       "2   2  1.475200  0.069075   675.718000  456.594686      -4.800000   \n",
       "3   2  1.548000  0.058183  1001.925000  403.576498      -3.750000   \n",
       "4   2  1.600750  0.000271  1000.982500  135.069652      -7.500000   \n",
       "\n",
       "   σHmix (kJ/mol)  Sid (kJ/mol)  Elec_nega  D_elec_nega  ...  AMp  SSsp  FCCp  \\\n",
       "0        0.209513      0.636514   1.823333     0.150849  ...  0.0   0.0   0.0   \n",
       "1        0.051817      0.666278   1.782308     0.116761  ...  0.0   0.0   0.0   \n",
       "2        0.097980      0.673012   1.858000     0.058788  ...  0.0   0.0   0.0   \n",
       "3        0.541266      0.562335   1.900000     0.051962  ...  0.0   0.0   0.0   \n",
       "4        1.082532      0.562335   1.465000     0.268468  ...  0.0   0.0   0.0   \n",
       "\n",
       "   B2p  BCCp  HCPp  2BCCp  SSp  L12p  2FCCp  \n",
       "0  0.0   0.0   0.0    0.0  0.0   0.0    0.0  \n",
       "1  0.0   0.0   0.0    0.0  0.0   0.0    0.0  \n",
       "2  0.0   0.0   0.0    0.0  0.0   0.0    0.0  \n",
       "3  0.0   0.0   0.0    0.0  0.0   0.0    0.0  \n",
       "4  0.0   0.0   0.0    0.0  0.0   0.0    0.0  \n",
       "\n",
       "[5 rows x 105 columns]"
      ]
     },
     "execution_count": 26,
     "metadata": {},
     "output_type": "execute_result"
    }
   ],
   "source": [
    "data = pd.read_csv('final_data.csv')\n",
    "data.head()"
   ]
  },
  {
   "cell_type": "code",
   "execution_count": 27,
   "metadata": {},
   "outputs": [
    {
     "data": {
      "text/plain": [
       "(105,)"
      ]
     },
     "execution_count": 27,
     "metadata": {},
     "output_type": "execute_result"
    }
   ],
   "source": [
    "cols = np.array(data.columns)\n",
    "cols.shape"
   ]
  },
  {
   "cell_type": "code",
   "execution_count": 28,
   "metadata": {},
   "outputs": [
    {
     "data": {
      "text/plain": [
       "0"
      ]
     },
     "execution_count": 28,
     "metadata": {},
     "output_type": "execute_result"
    }
   ],
   "source": [
    "data.isna().sum().sum()"
   ]
  },
  {
   "cell_type": "code",
   "execution_count": 29,
   "metadata": {},
   "outputs": [],
   "source": [
    "from sklearn.preprocessing import normalize\n",
    "\n",
    "X, Y = data[[c for c in cols if c not in ['BulkModulus (GPa)', 'D_Bulk (GPa)']]], data[['BulkModulus (GPa)', 'D_Bulk (GPa)']]\n",
    "\n",
    "X = normalize(X)\n",
    "\n",
    "X_train, X_test, Y_train, Y_test = train_test_split(X, Y, test_size=0.2, random_state=42)"
   ]
  },
  {
   "cell_type": "code",
   "execution_count": 30,
   "metadata": {},
   "outputs": [
    {
     "data": {
      "text/plain": [
       "0"
      ]
     },
     "execution_count": 30,
     "metadata": {},
     "output_type": "execute_result"
    }
   ],
   "source": [
    "np.sum(np.isnan(X_train))"
   ]
  },
  {
   "cell_type": "code",
   "execution_count": 31,
   "metadata": {},
   "outputs": [
    {
     "data": {
      "text/plain": [
       "0"
      ]
     },
     "execution_count": 31,
     "metadata": {},
     "output_type": "execute_result"
    }
   ],
   "source": [
    "np.sum(np.isnan(X_train))"
   ]
  },
  {
   "cell_type": "code",
   "execution_count": 32,
   "metadata": {},
   "outputs": [
    {
     "data": {
      "text/plain": [
       "(221, 103)"
      ]
     },
     "execution_count": 32,
     "metadata": {},
     "output_type": "execute_result"
    }
   ],
   "source": [
    "X_test.shape"
   ]
  },
  {
   "cell_type": "code",
   "execution_count": 17,
   "metadata": {},
   "outputs": [],
   "source": [
    "#Scaling numerical features\n",
    "#cols = np.array(X_train.columns)\n",
    "#cols_to_scale = np.delete(cols, np.where(cols=='pin_material'))\n",
    "\n",
    "#scaler = StandardScaler()\n",
    "#X_train_scaled = pd.DataFrame(scaler.fit_transform(X_train[cols]), columns=cols)\n",
    "#X_train[cols] = X_train_scaled\n",
    "\n",
    "#X_test_scaled = pd.DataFrame(scaler.transform(X_test[cols]), columns=cols)\n",
    "#X_test[cols] = X_test_scaled"
   ]
  },
  {
   "cell_type": "code",
   "execution_count": 18,
   "metadata": {},
   "outputs": [
    {
     "name": "stdout",
     "output_type": "stream",
     "text": [
      "[[2.59161610e-03 6.26316415e-04 4.21117790e-05 ... 0.00000000e+00\n",
      "  0.00000000e+00 0.00000000e+00]\n",
      " [1.72963629e-03 8.25584226e-04 6.36822644e-05 ... 0.00000000e+00\n",
      "  0.00000000e+00 0.00000000e+00]\n",
      " [1.63318295e-03 7.53931691e-04 6.56696203e-05 ... 0.00000000e+00\n",
      "  0.00000000e+00 0.00000000e+00]\n",
      " ...\n",
      " [3.99956655e-03 7.36051379e-04 3.38335945e-05 ... 0.00000000e+00\n",
      "  0.00000000e+00 0.00000000e+00]\n",
      " [5.66199714e-03 8.45157924e-04 4.00927381e-05 ... 0.00000000e+00\n",
      "  0.00000000e+00 0.00000000e+00]\n",
      " [3.19373608e-03 6.93945620e-04 3.59686082e-05 ... 0.00000000e+00\n",
      "  0.00000000e+00 0.00000000e+00]]\n"
     ]
    }
   ],
   "source": [
    "print(X_train)"
   ]
  },
  {
   "cell_type": "code",
   "execution_count": 19,
   "metadata": {},
   "outputs": [
    {
     "data": {
      "text/html": [
       "<div>\n",
       "<style scoped>\n",
       "    .dataframe tbody tr th:only-of-type {\n",
       "        vertical-align: middle;\n",
       "    }\n",
       "\n",
       "    .dataframe tbody tr th {\n",
       "        vertical-align: top;\n",
       "    }\n",
       "\n",
       "    .dataframe thead th {\n",
       "        text-align: right;\n",
       "    }\n",
       "</style>\n",
       "<table border=\"1\" class=\"dataframe\">\n",
       "  <thead>\n",
       "    <tr style=\"text-align: right;\">\n",
       "      <th></th>\n",
       "      <th>BulkModulus (GPa)</th>\n",
       "      <th>D_Bulk (GPa)</th>\n",
       "    </tr>\n",
       "  </thead>\n",
       "  <tbody>\n",
       "    <tr>\n",
       "      <th>309</th>\n",
       "      <td>159.939394</td>\n",
       "      <td>27.340656</td>\n",
       "    </tr>\n",
       "    <tr>\n",
       "      <th>1041</th>\n",
       "      <td>150.461538</td>\n",
       "      <td>32.193204</td>\n",
       "    </tr>\n",
       "    <tr>\n",
       "      <th>381</th>\n",
       "      <td>61.350000</td>\n",
       "      <td>33.919427</td>\n",
       "    </tr>\n",
       "    <tr>\n",
       "      <th>497</th>\n",
       "      <td>143.200000</td>\n",
       "      <td>42.531870</td>\n",
       "    </tr>\n",
       "    <tr>\n",
       "      <th>551</th>\n",
       "      <td>121.200000</td>\n",
       "      <td>33.552347</td>\n",
       "    </tr>\n",
       "    <tr>\n",
       "      <th>...</th>\n",
       "      <td>...</td>\n",
       "      <td>...</td>\n",
       "    </tr>\n",
       "    <tr>\n",
       "      <th>1057</th>\n",
       "      <td>157.966102</td>\n",
       "      <td>28.533635</td>\n",
       "    </tr>\n",
       "    <tr>\n",
       "      <th>321</th>\n",
       "      <td>66.800000</td>\n",
       "      <td>59.713985</td>\n",
       "    </tr>\n",
       "    <tr>\n",
       "      <th>982</th>\n",
       "      <td>128.571429</td>\n",
       "      <td>57.676084</td>\n",
       "    </tr>\n",
       "    <tr>\n",
       "      <th>924</th>\n",
       "      <td>143.241379</td>\n",
       "      <td>33.517525</td>\n",
       "    </tr>\n",
       "    <tr>\n",
       "      <th>771</th>\n",
       "      <td>60.900000</td>\n",
       "      <td>71.401611</td>\n",
       "    </tr>\n",
       "  </tbody>\n",
       "</table>\n",
       "<p>221 rows × 2 columns</p>\n",
       "</div>"
      ],
      "text/plain": [
       "      BulkModulus (GPa)  D_Bulk (GPa)\n",
       "309          159.939394     27.340656\n",
       "1041         150.461538     32.193204\n",
       "381           61.350000     33.919427\n",
       "497          143.200000     42.531870\n",
       "551          121.200000     33.552347\n",
       "...                 ...           ...\n",
       "1057         157.966102     28.533635\n",
       "321           66.800000     59.713985\n",
       "982          128.571429     57.676084\n",
       "924          143.241379     33.517525\n",
       "771           60.900000     71.401611\n",
       "\n",
       "[221 rows x 2 columns]"
      ]
     },
     "execution_count": 19,
     "metadata": {},
     "output_type": "execute_result"
    }
   ],
   "source": [
    "Y_test\n"
   ]
  },
  {
   "cell_type": "code",
   "execution_count": 20,
   "metadata": {},
   "outputs": [
    {
     "name": "stdout",
     "output_type": "stream",
     "text": [
      "NN MSE: 769.58\n",
      "NN MAE: 20.15\n",
      "NN RMSE: 27.74\n"
     ]
    }
   ],
   "source": [
    "nn_model = MLPRegressor(activation='logistic', alpha=0.01, batch_size = 2, max_iter=8000, random_state=42)\n",
    "nn_model.fit(X_train, Y_train)\n",
    "\n",
    "Y_pred_nn = nn_model.predict(X_test)\n",
    "\n",
    "test_mse = mean_squared_error(Y_test, Y_pred_nn)\n",
    "test_mae = mean_absolute_error(Y_test, Y_pred_nn)\n",
    "print(\"NN MSE: %.2f\" %(test_mse))\n",
    "print(\"NN MAE: %.2f\" %(test_mae))\n",
    "print(\"NN RMSE: %.2f\" %(np.sqrt(test_mse)))"
   ]
  },
  {
   "cell_type": "code",
   "execution_count": 21,
   "metadata": {},
   "outputs": [
    {
     "data": {
      "image/png": "[encoded data removed]",
      "text/plain": [
       "<Figure size 640x480 with 1 Axes>"
      ]
     },
     "metadata": {},
     "output_type": "display_data"
    }
   ],
   "source": [
    "plt.scatter(Y_test['BulkModulus (GPa)'], [a[0] for a in Y_pred_nn], color='blue', label='Model Prediction')\n",
    "plt.plot([min(Y_test['BulkModulus (GPa)']), max(Y_test['BulkModulus (GPa)'])], [min(Y_test['BulkModulus (GPa)']), max(Y_test['BulkModulus (GPa)'])], color='red', linestyle='--', label='Actual Line')\n",
    "plt.xlabel('True Value')\n",
    "plt.ylabel('Predicted Value')\n",
    "plt.title('BulkModulus (GPa) - Neural Network')\n",
    "plt.legend()\n",
    "plt.show()"
   ]
  },
  {
   "cell_type": "code",
   "execution_count": 22,
   "metadata": {},
   "outputs": [
    {
     "data": {
      "image/png": "[encoded data removed]",
      "text/plain": [
       "<Figure size 640x480 with 1 Axes>"
      ]
     },
     "metadata": {},
     "output_type": "display_data"
    }
   ],
   "source": [
    "plt.scatter(Y_test['D_Bulk (GPa)'], [a[1] for a in Y_pred_nn], color='blue', label='Model Prediction')\n",
    "plt.plot([min(Y_test['D_Bulk (GPa)']), max(Y_test['D_Bulk (GPa)'])], [min(Y_test['D_Bulk (GPa)']), max(Y_test['D_Bulk (GPa)'])], color='red', linestyle='--', label = 'Actual Line')\n",
    "plt.xlabel('True Value')\n",
    "plt.ylabel('Predicted Value')\n",
    "plt.title('D_Bulk (GPa) Neural Network')\n",
    "plt.legend()\n",
    "plt.show()"
   ]
  },
  {
   "cell_type": "code",
   "execution_count": null,
   "metadata": {},
   "outputs": [],
   "source": []
  }
 ],
 "metadata": {
  "kernelspec": {
   "display_name": "Python 3 (ipykernel)",
   "language": "python",
   "name": "python3"
  },
  "language_info": {
   "codemirror_mode": {
    "name": "ipython",
    "version": 3
   },
   "file_extension": ".py",
   "mimetype": "text/x-python",
   "name": "python",
   "nbconvert_exporter": "python",
   "pygments_lexer": "ipython3",
   "version": "3.10.9"
  }
 },
 "nbformat": 4,
 "nbformat_minor": 2
}
