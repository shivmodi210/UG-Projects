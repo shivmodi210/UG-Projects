{
 "cells": [
  {
   "cell_type": "code",
   "execution_count": 36,
   "id": "6785d324",
   "metadata": {},
   "outputs": [],
   "source": [
    "import pandas as pd\n",
    "from sklearn.preprocessing import StandardScaler\n",
    "from sklearn.decomposition import PCA\n",
    "import numpy as np\n",
    "from sklearn.model_selection import train_test_split\n",
    "import matplotlib.pyplot as plt\n",
    "from sklearn import linear_model\n",
    "\n",
    "n = 20\n",
    "\n",
    "\n",
    "data = pd.read_csv(\"final_data.csv\")\n",
    "\n",
    "bulk_modulus = data.iloc[:, 12]\n",
    "D_bulk = data.iloc[:, 13]\n",
    "\n",
    "X1 = data.iloc[:, 0:12]\n",
    "X2 = data.iloc[:, 14: 106]\n",
    "\n",
    "X = np.concatenate((X1, X2),axis=1)\n",
    "\n",
    "X = StandardScaler().fit_transform(X)\n",
    "\n",
    "X_train, X_test, Y_train, Y_test = train_test_split(X, bulk_modulus, random_state = 1312, test_size = 0.2, shuffle=True)"
   ]
  },
  {
   "cell_type": "code",
   "execution_count": 37,
   "id": "3a09348e",
   "metadata": {},
   "outputs": [],
   "source": [
    "pca = PCA(n_components=n)\n",
    "\n",
    "principalComponents = pca.fit_transform(X)\n",
    "\n",
    "principalDf = pd.DataFrame(data = principalComponents\n",
    "             , columns = ['principal component 1', 'principal component 2', 'principal component 3', 'principal component 4', 'principal component 5', 'principal component 6', 'principal component 7', 'principal component 8', 'principal component 9', 'principal component 10', 'principal component 11', 'principal component 12', 'principal component 13', 'principal component 14', 'principal component 15', 'principal component 16', 'principal component 17', 'principal component 18', 'principal component 19', 'principal component 20'])"
   ]
  },
  {
   "cell_type": "code",
   "execution_count": 38,
   "id": "8e63df94",
   "metadata": {},
   "outputs": [],
   "source": [
    "finalDf = pd.concat([principalDf, bulk_modulus], axis = 1)"
   ]
  },
  {
   "cell_type": "code",
   "execution_count": 39,
   "id": "d1bf38e9",
   "metadata": {},
   "outputs": [
    {
     "data": {
      "text/plain": [
       "array([0.07373024, 0.0533319 , 0.04311984, 0.034583  , 0.03222754,\n",
       "       0.02661687, 0.02457781, 0.0239402 , 0.02155832, 0.02083804,\n",
       "       0.01984165, 0.0192842 , 0.01812908, 0.01784324, 0.0174759 ,\n",
       "       0.01657531, 0.01583133, 0.01550859, 0.01494569, 0.01454315])"
      ]
     },
     "execution_count": 39,
     "metadata": {},
     "output_type": "execute_result"
    }
   ],
   "source": [
    "pca.explained_variance_ratio_"
   ]
  },
  {
   "cell_type": "code",
   "execution_count": 40,
   "id": "115c645d",
   "metadata": {},
   "outputs": [
    {
     "name": "stdout",
     "output_type": "stream",
     "text": [
      "0.835221741654715\n",
      "0.7877693674266978\n"
     ]
    },
    {
     "data": {
      "image/png": "[encoded data removed]",
      "text/plain": [
       "<Figure size 640x480 with 1 Axes>"
      ]
     },
     "metadata": {},
     "output_type": "display_data"
    }
   ],
   "source": [
    "X_train, X_test, Y_train, Y_test = train_test_split(principalDf, bulk_modulus, random_state = 1312, test_size = 0.2, shuffle=True)\n",
    "\n",
    "regr1 = linear_model.LinearRegression()\n",
    "regr1.fit(X_train, Y_train)\n",
    "print(regr1.score(X_train, Y_train))\n",
    "print(regr1.score(X_test, Y_test))\n",
    "\n",
    "plt.plot(Y_test, regr1.predict(X_test), 'r.')\n",
    "plt.show()"
   ]
  },
  {
   "cell_type": "code",
   "execution_count": null,
   "id": "36bc1848",
   "metadata": {},
   "outputs": [],
   "source": []
  }
 ],
 "metadata": {
  "kernelspec": {
   "display_name": "Python 3 (ipykernel)",
   "language": "python",
   "name": "python3"
  },
  "language_info": {
   "codemirror_mode": {
    "name": "ipython",
    "version": 3
   },
   "file_extension": ".py",
   "mimetype": "text/x-python",
   "name": "python",
   "nbconvert_exporter": "python",
   "pygments_lexer": "ipython3",
   "version": "3.10.9"
  }
 },
 "nbformat": 4,
 "nbformat_minor": 5
}
