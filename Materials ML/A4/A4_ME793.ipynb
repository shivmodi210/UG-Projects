{
 "cells": [
  {
   "cell_type": "markdown",
   "id": "7152b1ee",
   "metadata": {},
   "source": [
    "# Tutorial / Assignment 4: NN from Scratch"
   ]
  },
  {
   "cell_type": "code",
   "execution_count": 1,
   "id": "b244005e",
   "metadata": {},
   "outputs": [],
   "source": [
    "import matplotlib.pyplot as plt\n",
    "import numpy as np"
   ]
  },
  {
   "cell_type": "markdown",
   "id": "7c935463",
   "metadata": {},
   "source": [
    "## Create a function ReLU\n",
    "### We will use it later in the NN"
   ]
  },
  {
   "cell_type": "code",
   "execution_count": 2,
   "id": "81f70ddf",
   "metadata": {},
   "outputs": [],
   "source": [
    "def relu(z):\n",
    "    a = np.maximum(0,z)\n",
    "    return a"
   ]
  },
  {
   "cell_type": "code",
   "execution_count": 3,
   "id": "1d64c097",
   "metadata": {},
   "outputs": [
    {
     "data": {
      "image/png": "[encoded data removed]",
      "text/plain": [
       "<Figure size 640x480 with 1 Axes>"
      ]
     },
     "metadata": {},
     "output_type": "display_data"
    }
   ],
   "source": [
    "x=np.linspace(-5,5,50)\n",
    "z = relu(x)\n",
    "plt.plot(x,z)\n",
    "plt.grid()\n",
    "plt.show()"
   ]
  },
  {
   "cell_type": "code",
   "execution_count": 4,
   "id": "4a086be4",
   "metadata": {},
   "outputs": [],
   "source": [
    "def initialize_params(layer_sizes):\n",
    "    params = {}\n",
    "    for i in range(1,len(layer_sizes)):\n",
    "        params['w'+str(i)]=np.random.randn(layer_sizes[i],layer_sizes[i-1])*0.01\n",
    "        params['b'+str(i)]=np.random.randn(layer_sizes[i],1)*0.01\n",
    "    return params"
   ]
  },
  {
   "cell_type": "markdown",
   "id": "c8116e11",
   "metadata": {},
   "source": [
    "### Loss is defined as $J(w,b) = 1/(2m) (J_{true} - J_{pred})^2$"
   ]
  },
  {
   "cell_type": "code",
   "execution_count": 5,
   "id": "6aefd362",
   "metadata": {},
   "outputs": [],
   "source": [
    "def forward_propagation(params,X_train):\n",
    "    layers = len(params)//2\n",
    "    values = {}\n",
    "    for i in range(1,layers+1): \n",
    "        if i == 1: # transformation from the input layer\n",
    "            values['z'+str(i)]=np.dot(params['w'+str(i)],X_train)+params['b'+str(i)]\n",
    "            values['A'+str(i)]=relu(values['z'+str(i)])\n",
    "        else: # for any other layer\n",
    "            values['z'+str(i)]=np.dot(params['w'+str(i)],values['A'+str(i-1)])+params['b'+str(i)]\n",
    "            if i==layers:\n",
    "                values['A'+str(i)] = values['z'+str(i)]\n",
    "            else:\n",
    "                values['A'+str(i)] = relu(values['z'+str(i)])\n",
    "    return values"
   ]
  },
  {
   "cell_type": "markdown",
   "id": "f7ff6c97",
   "metadata": {},
   "source": [
    "### Create a loss function"
   ]
  },
  {
   "cell_type": "code",
   "execution_count": 6,
   "id": "5e52624f",
   "metadata": {},
   "outputs": [],
   "source": [
    "def compute_cost(values,Y_train):\n",
    "    layers = len(paramas)//2\n",
    "    Y_pred = values['A'+str(layers)]\n",
    "    cost = 1/(2*len(Y_train))*np.sum(np.square(Y_train - Y_pred))\n",
    "    return cost "
   ]
  },
  {
   "cell_type": "code",
   "execution_count": 7,
   "id": "bccc5d57",
   "metadata": {},
   "outputs": [],
   "source": [
    "def backward_propagation(params, values, X_train, Y_train): \n",
    "    #takes parameters, activations, training set as input and returns gradients wrt parameters\n",
    "    layers = len(params)//2\n",
    "    m = len(Y_train)\n",
    "    grads = {}\n",
    "    for i in range(layers,0,-1):\n",
    "        if i==layers:\n",
    "            dA = 1/m * (values['A' + str(i)] - Y_train)\n",
    "            dZ = dA\n",
    "        else:\n",
    "            dA = np.dot(params['W' + str(i+1)].T, dZ)\n",
    "            dZ = np.multiply(dA, np.where(values['A' + str(i)]>=0, 1, 0))\n",
    "        if i==1:\n",
    "            grads['W' + str(i)] = 1/m * np.dot(dZ, X_train.T)\n",
    "            grads['B' + str(i)] = 1/m * np.sum(dZ, axis=1, keepdims=True)\n",
    "        else:\n",
    "            grads['W' + str(i)] = 1/m * np.dot(dZ,values['A' + str(i-1)].T)\n",
    "            grads['B' + str(i)] = 1/m * np.sum(dZ, axis=1, keepdims=True)\n",
    "    return grads"
   ]
  },
  {
   "cell_type": "code",
   "execution_count": 8,
   "id": "e4207523",
   "metadata": {},
   "outputs": [],
   "source": [
    "def update_params(params, grads, learning_rate): \n",
    "    #takes parameters, gradients and learning rate as input and returns updated parameters\n",
    "    layers = len(params)//2\n",
    "    params_updated = {}\n",
    "    for i in range(1,layers+1):\n",
    "        params_updated['W' + str(i)] = params['W' + str(i)] - learning_rate * grads['W' + str(i)]\n",
    "        params_updated['B' + str(i)] = params['B' + str(i)] - learning_rate * grads['B' + str(i)]\n",
    "    return params_updated"
   ]
  },
  {
   "cell_type": "code",
   "execution_count": 9,
   "id": "f21e45bb",
   "metadata": {},
   "outputs": [],
   "source": [
    "#MSE_Train\n",
    "def model(X_train, Y_train, layer_sizes, num_iters, learning_rate): #trains the model\n",
    "    params = initialize_params(layer_sizes)\n",
    "    for i in range(num_iters):\n",
    "        values = forward_propagation(X_train.T, params)\n",
    "        cost = compute_cost(values, Y_train.T)\n",
    "        print(f'cost of {i}th iteration: {cost}')\n",
    "        grads = backward_propagation(params, values,X_train.T, Y_train.T)\n",
    "        params = update_params(params, grads, learning_rate)\n",
    "        #print('Cost at iteration ' + str(i+1) + ' = ' + str(cost) + '\\n')\n",
    "    return params"
   ]
  },
  {
   "cell_type": "code",
   "execution_count": 10,
   "id": "c7dfa39e",
   "metadata": {},
   "outputs": [],
   "source": [
    "def sigmoid(x):\n",
    "    return 1 / (1 + np.exp(-x))\n",
    "\n",
    "def sigmoid_derivative(x):\n",
    "    return x * (1 - x)\n",
    "\n",
    "def initialize_parameters(input_size, hidden_size, output_size):\n",
    "    np.random.seed(0)\n",
    "    weights_input_hidden = np.random.randn(input_size, hidden_size)\n",
    "    bias_input_hidden = np.zeros((1, hidden_size))\n",
    "    weights_hidden_output = np.random.randn(hidden_size, output_size)\n",
    "    bias_hidden_output = np.zeros((1, output_size))\n",
    "    return weights_input_hidden, bias_input_hidden, weights_hidden_output, bias_hidden_output\n",
    "\n",
    "def forward_propagation(X, weights_input_hidden, bias_input_hidden, weights_hidden_output, bias_hidden_output):\n",
    "    hidden_input = np.dot(X, weights_input_hidden) + bias_input_hidden\n",
    "    hidden_output = sigmoid(hidden_input)\n",
    "    output = np.dot(hidden_output, weights_hidden_output) + bias_hidden_output\n",
    "    return hidden_input, hidden_output, output\n",
    "\n",
    "def backward_propagation(X, y, output, hidden_output, weights_hidden_output):\n",
    "    output_error = y - output\n",
    "    output_delta = output_error\n",
    "    hidden_error = output_delta.dot(weights_hidden_output.T)\n",
    "    hidden_delta = hidden_error * sigmoid_derivative(hidden_output)\n",
    "    return output_delta, hidden_delta\n",
    "\n",
    "def update_parameters(X, hidden_output, output_delta, hidden_delta, weights_input_hidden, bias_input_hidden, weights_hidden_output, bias_hidden_output, learning_rate):\n",
    "    weights_hidden_output += hidden_output.T.dot(output_delta) * learning_rate\n",
    "    bias_hidden_output += np.sum(output_delta, axis=0, keepdims=True) * learning_rate\n",
    "    weights_input_hidden += X.T.dot(hidden_delta) * learning_rate\n",
    "    bias_input_hidden += np.sum(hidden_delta, axis=0, keepdims=True) * learning_rate\n",
    "    return weights_input_hidden, bias_input_hidden, weights_hidden_output, bias_hidden_output\n",
    "\n",
    "def train_neural_network(X, y, input_size, hidden_size, output_size, epochs, learning_rate):\n",
    "    weights_input_hidden, bias_input_hidden, weights_hidden_output, bias_hidden_output = initialize_parameters(input_size, hidden_size, output_size)\n",
    "    \n",
    "    for epoch in range(epochs):\n",
    "        hidden_input, hidden_output, output = forward_propagation(X, weights_input_hidden, bias_input_hidden, weights_hidden_output, bias_hidden_output)\n",
    "        output_delta, hidden_delta = backward_propagation(X, y, output, hidden_output, weights_hidden_output)\n",
    "        weights_input_hidden, bias_input_hidden, weights_hidden_output, bias_hidden_output = update_parameters(X, hidden_output, output_delta, hidden_delta, weights_input_hidden, bias_input_hidden, weights_hidden_output, bias_hidden_output, learning_rate)\n",
    "    \n",
    "    return weights_input_hidden, bias_input_hidden, weights_hidden_output, bias_hidden_output\n",
    "\n",
    "def predict(X, weights_input_hidden, bias_input_hidden, weights_hidden_output, bias_hidden_output):\n",
    "    _, _, output = forward_propagation(X, weights_input_hidden, bias_input_hidden, weights_hidden_output, bias_hidden_output)\n",
    "    return output\n",
    "\n",
    "def mean_squared_error(y_true, y_pred):\n",
    "    return np.mean((y_true - y_pred) ** 2)\n"
   ]
  },
  {
   "cell_type": "code",
   "execution_count": null,
   "id": "c278f4b5",
   "metadata": {},
   "outputs": [],
   "source": []
  }
 ],
 "metadata": {
  "kernelspec": {
   "display_name": "Python 3 (ipykernel)",
   "language": "python",
   "name": "python3"
  },
  "language_info": {
   "codemirror_mode": {
    "name": "ipython",
    "version": 3
   },
   "file_extension": ".py",
   "mimetype": "text/x-python",
   "name": "python",
   "nbconvert_exporter": "python",
   "pygments_lexer": "ipython3",
   "version": "3.10.12"
  }
 },
 "nbformat": 4,
 "nbformat_minor": 5
}
